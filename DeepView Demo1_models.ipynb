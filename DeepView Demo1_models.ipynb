{
 "cells": [
  {
   "cell_type": "code",
   "execution_count": 1,
   "metadata": {},
   "outputs": [],
   "source": [
    "from deepview import DeepView\n",
    "import matplotlib.pyplot as plt\n",
    "import numpy as np\n",
    "import time\n",
    "# ---------------------------\n",
    "import demo_utils as demo\n",
    "\n",
    "%load_ext autoreload\n",
    "%autoreload 2\n",
    "%matplotlib qt"
   ]
  },
  {
   "cell_type": "code",
   "execution_count": 2,
   "metadata": {},
   "outputs": [],
   "source": [
    "# matplotlib qt seems to be a bit buggy with notebooks, so we execute it multiple times\n",
    "%matplotlib qt"
   ]
  },
  {
   "cell_type": "markdown",
   "metadata": {},
   "source": [
    "## Getting data and models\n",
    " \n",
    "Each section in this notebook can be run independently, thus at the beginning of each section, the according model (i.e. torch/knn/decision tree) and the dataset will be initialized. The reason for this is, that running both torch and tensorflow simultaneously on the GPU may lead to problems.\n",
    "This notebook tests the DeepView framework on different classifiers\n",
    "\n",
    " * ResNet-20 on CIFAR10\n",
    " * DecisionTree on MNIST\n",
    " * RandomForest on MNIST\n",
    " * KNN on MNIST\n",
    "\n",
    "---\n",
    "\n",
    "## DeepView Usage Instructions\n",
    "\n",
    " 1. Create a wrapper funktion like ```pred_wrapper``` which receives a numpy array of samples and returns according class probabilities from the classifier as numpy arrays\n",
    " 2. Initialize DeepView-object and pass the created method to the constructor\n",
    " 3. Run your code and call ```add_samples(samples, labels)``` at any time to add samples to the visualization together with the ground truth labels.\n",
    "    * The ground truth labels will be visualized along with the predicted labels\n",
    "    * The object will keep track of a maximum number of samples specified by ```max_samples``` and it will throw away the oldest samples first\n",
    " 4. Call the ```show``` method to render the plot\n",
    "\n",
    "The following parameters must be specified on initialization:\n",
    "\n",
    "| <p align=\"left\">Variable               | <p align=\"left\">Meaning           |\n",
    "|------------------------|-------------------|\n",
    "| <p align=\"left\">(!)```pred_wrapper```     | <p align=\"left\">Wrapper function allowing DeepView to use your model. Expects a single argument, which should be a batch of samples to classify. Returns (valid / softmaxed) prediction probabilities for this batch of samples. |\n",
    "| <p align=\"left\">(!)```classes```          | <p align=\"left\">Names of all different classes in the data. |\n",
    "| <p align=\"left\">(!)```max_samples```      | <p align=\"left\">The maximum amount of samples that DeepView will keep track of. When more samples are added, the oldest samples are removed from DeepView. |\n",
    "| <p align=\"left\">(!)```batch_size```       | <p align=\"left\">The batch size used for classification |\n",
    "| <p align=\"left\">(!)```data_shape```       | <p align=\"left\">Shape of the input data (complete shape; excluding the batch dimension) |\n",
    "| <p align=\"left\">```resolution```       | <p align=\"left\">x- and y- Resolution of the decision boundary plot. A high resolution will compute significantly longer than a lower resolution, as every point must be classified, default 100. |\n",
    "| <p align=\"left\">```cmap```             | <p align=\"left\">Name of the colormap that should be used in the plots, default 'tab10'. |\n",
    "| <p align=\"left\">```interactive```      | <p align=\"left\">When ```interactive``` is True, this method is non-blocking to allow plot updates. When ```interactive``` is False, this method is blocking to prevent termination of python scripts, default True. |\n",
    "| <p align=\"left\">```title```            | <p align=\"left\">Title of the deepview-plot. |\n",
    "| <p align=\"left\">```data_viz```         | <p align=\"left\">DeepView has a reactive plot, that responds to mouse clicks and shows the according data sample, when it is clicked. You can pass a custom visualization function, if ```data_viz``` is None, DeepView will try to show each sample as an image, if possible. (optional, default None)  |\n",
    "| <p align=\"left\">```mapper```           | <p align=\"left\">An object that maps samples from the data space to 2D space. Normally UMAP is used for this, but you can pass a custom mapper as well. (optional)  |\n",
    "| <p align=\"left\">```inv_mapper```       | <p align=\"left\">An object that maps samples from the 2D space to the data space. Normally ```deepview.embeddings.InvMapper``` is used for this, but you can pass a custom inverse mapper as well. (optional)  |\n",
    "| <p align=\"left\">```kwargs```       | <p align=\"left\">Configuration for the embeddings in case they are not specifically given in mapper and inv_mapper. Defaults to ```deepview.config.py```.  (optional)  |"
   ]
  },
  {
   "cell_type": "markdown",
   "metadata": {},
   "source": [
    "## Demo with Torch model"
   ]
  },
  {
   "cell_type": "code",
   "execution_count": 2,
   "metadata": {},
   "outputs": [
    {
     "name": "stdout",
     "output_type": "stream",
     "text": [
      "Created PyTorch model:\t ResNet\n",
      " * Dataset:\t\t CIFAR10\n",
      " * Best Test prec:\t 91.78000183105469\n",
      "Files already downloaded and verified\n",
      "\n",
      "Using device: cuda:0\n"
     ]
    }
   ],
   "source": [
    "import torch\n",
    "\n",
    "# device will be detected automatically\n",
    "# Set to 'cpu' or 'cuda:0' to set the device manually\n",
    "device = torch.device('cuda:0' if torch.cuda.is_available() else 'cpu')\n",
    "# get torch model\n",
    "torch_model = demo.create_torch_model(device)\n",
    "# get CIFAR-10 data\n",
    "testset = demo.make_cifar_dataset()\n",
    "\n",
    "print('\\nUsing device:', device)"
   ]
  },
  {
   "cell_type": "code",
   "execution_count": null,
   "metadata": {},
   "outputs": [],
   "source": []
  },
  {
   "cell_type": "code",
   "execution_count": null,
   "metadata": {},
   "outputs": [],
   "source": []
  },
  {
   "cell_type": "code",
   "execution_count": 4,
   "metadata": {},
   "outputs": [],
   "source": [
    "# softmax operation to use in pred_wrapper\n",
    "softmax = torch.nn.Softmax(dim=-1)\n",
    "\n",
    "# this is the prediction wrapper, it encapsulates the call to the model\n",
    "# and does all the casting to the appropriate datatypes\n",
    "def pred_wrapper(x):\n",
    "    with torch.no_grad():\n",
    "        x = np.array(x, dtype=np.float32)\n",
    "        tensor = torch.from_numpy(x).to(device)\n",
    "        logits = torch_model(tensor)\n",
    "        probabilities = softmax(logits).cpu().numpy()\n",
    "    return probabilities\n",
    "\n",
    "def visualization(image, point2d, pred, label=None, title=None):\n",
    "    f, a = plt.subplots()\n",
    "    a.set_title(title)\n",
    "    a.imshow(image.transpose([1, 2, 0]))\n",
    "\n",
    "# the classes in the dataset to be used as labels in the plots\n",
    "classes = ('plane', 'car', 'bird', 'cat', 'deer', 'dog', 'frog', 'horse', 'ship', 'truck')\n",
    "\n",
    "# --- Deep View Parameters ----\n",
    "batch_size = 512\n",
    "max_samples = 500\n",
    "data_shape = (3, 32, 32)\n",
    "n = 5\n",
    "lam = .65\n",
    "resolution = 100\n",
    "cmap = 'tab10'\n",
    "title = 'ResNet-20 - CIFAR10'\n",
    "\n",
    "deepview = DeepView(pred_wrapper, classes, max_samples, batch_size, \n",
    "                    data_shape, n, lam, resolution, cmap, title=title, data_viz=None)"
   ]
  },
  {
   "cell_type": "code",
   "execution_count": 5,
   "metadata": {},
   "outputs": [
    {
     "name": "stdout",
     "output_type": "stream",
     "text": [
      "Distance calculation 20.00 %\n",
      "Distance calculation 40.00 %\n",
      "Distance calculation 60.00 %\n",
      "Distance calculation 80.00 %\n",
      "Distance calculation 100.00 %\n",
      "Embedding samples ...\n",
      "Computing decision regions ...\n",
      "Time to calculate visualization for 150 samples: 25.68 sec\n"
     ]
    }
   ],
   "source": [
    "n_samples = 150\n",
    "sample_ids = np.random.choice(len(testset), n_samples)\n",
    "X = np.array([ testset[i][0].numpy() for i in sample_ids ])\n",
    "Y = np.array([ testset[i][1] for i in sample_ids ])\n",
    "\n",
    "t0 = time.time()\n",
    "deepview.add_samples(X, Y)\n",
    "deepview.show()\n",
    "\n",
    "\n",
    "print('Time to calculate visualization for %d samples: %.2f sec' % (n_samples, time.time() - t0))\n",
    "# 236.5 sec for 150 samples on laptp 4800U\n",
    "# 26.5 sec for 150 samples on desktop with GPU 12400 RTX 3090"
   ]
  },
  {
   "cell_type": "markdown",
   "metadata": {},
   "source": [
    "## Add new samples to the visualization"
   ]
  },
  {
   "cell_type": "code",
   "execution_count": 6,
   "metadata": {},
   "outputs": [
    {
     "name": "stdout",
     "output_type": "stream",
     "text": [
      "Distance calculation 20.00 %\n",
      "Distance calculation 40.00 %\n",
      "Distance calculation 60.00 %\n",
      "Distance calculation 80.00 %\n",
      "Distance calculation 100.00 %\n",
      "Embedding samples ...\n",
      "Computing decision regions ...\n",
      "Time to add 200 samples to visualization: 62.68 sec\n"
     ]
    }
   ],
   "source": [
    "n_new = 200\n",
    "\n",
    "sample_ids = np.random.choice(len(testset), n_new)\n",
    "X = np.array([ testset[i][0].numpy() for i in sample_ids ])\n",
    "Y = np.array([ testset[i][1] for i in sample_ids ])\n",
    "\n",
    "t0 = time.time()\n",
    "deepview.add_samples(X, Y)\n",
    "deepview.show()\n",
    "\n",
    "print('Time to add %d samples to visualization: %.2f sec' % (n_new, time.time() - t0))"
   ]
  },
  {
   "cell_type": "markdown",
   "metadata": {},
   "source": [
    "### Example output\n",
    "\n",
    "As the plot is updatable, it is shown in a separate Qt-window. With the CIFAR-data and the model loaded above, the following plot was produced after 200 samples where added:\n",
    "\n",
    "**Hyperparameters:**\n",
    "n = 10\n",
    "lam = 0.2\n",
    "resolution = 100\n",
    "\n",
    "![sample_plot](https://user-images.githubusercontent.com/30961397/72370639-fbab6f00-3702-11ea-98f4-0dc7335777fc.png)"
   ]
  },
  {
   "cell_type": "markdown",
   "metadata": {},
   "source": [
    "## Tuning the $\\lambda$-Hyperparameter\n",
    "\n",
    "> The $\\lambda$-Hyperparameter weights the euclidian distance component.\n",
    "> When the visualization doesn't show class-clusters, **try a smaller lambda** to put more emphasis on the discriminative distance component that considers the class.\n",
    "> A smaller $\\lambda$ will pull the datapoints further into their class-clusters.\n",
    "> Therefore, a **too small $\\lambda$** can lead to collapsed clusters that don't represent any structural properties of the datapoints. Of course this behaviour also depends on the data and how well the label corresponds to certain structural properties.\n",
    "\n",
    "Due to separate handling of euclidian and class-discriminative distances, the $\\lambda$ parameter can easily be adjusted. Distances don't need to be recomputed, only the embeddings and therefore also the plot of the decision boundary."
   ]
  },
  {
   "cell_type": "code",
   "execution_count": 10,
   "metadata": {},
   "outputs": [
    {
     "name": "stdout",
     "output_type": "stream",
     "text": [
      "Embedding samples ...\n",
      "Computing decision regions ...\n"
     ]
    }
   ],
   "source": [
    "deepview.set_lambda(.7)\n",
    "deepview.show()"
   ]
  },
  {
   "cell_type": "markdown",
   "metadata": {},
   "source": [
    "## Compare performance\n",
    "\n",
    "For this test, DeepView was run on a GPU (GTX 2060 6GB).\n",
    "Adding samples may be a bit more time consuming, then just running DeepView on the desired amount of samples to be visualized. This is because the decision boundaries must be calculated twice with a similar time complexity. However, the step of adding 100 samples to 100 existing samples takes less time then computing it from scratch for 200 samples. This is because distances were already computed for half of the samples and can be reused.\n",
    "\n",
    "| <p align=\"left\">Szenario | Time |\n",
    "| -------- | ---- |\n",
    "| <p align=\"left\">From scratch for 100 samples | 31.20 sec |\n",
    "| <p align=\"left\">Adding 100 samples (100 already added) | 66.89 sec |\n",
    "| <p align=\"left\">From scratch for 200 samples | 71.16 sec |\n",
    "| <p align=\"left\">200 samples when adding 100 samples in two steps | 98.19 sec |"
   ]
  },
  {
   "cell_type": "code",
   "execution_count": 7,
   "metadata": {},
   "outputs": [
    {
     "name": "stdout",
     "output_type": "stream",
     "text": [
      "Distance calculation 20.00 %\n",
      "Distance calculation 40.00 %\n",
      "Distance calculation 60.00 %\n",
      "Distance calculation 80.00 %\n",
      "Distance calculation 100.00 %\n",
      "Embedding samples ...\n",
      "Computing decision regions ...\n",
      "Time to calculate visualization for 200 samples: 31.88 sec\n"
     ]
    }
   ],
   "source": [
    "deepview.reset()\n",
    "\n",
    "n_samples = 200\n",
    "sample_ids = np.random.choice(len(testset), n_samples)\n",
    "X = np.array([ testset[i][0].numpy() for i in sample_ids ])\n",
    "Y = np.array([ testset[i][1] for i in sample_ids ])\n",
    "\n",
    "t0 = time.time()\n",
    "deepview.add_samples(X, Y)\n",
    "deepview.show()\n",
    "\n",
    "print('Time to calculate visualization for %d samples: %.2f sec' % (n_samples, time.time() - t0))"
   ]
  },
  {
   "cell_type": "markdown",
   "metadata": {},
   "source": [
    "# Evaluate \n",
    "\n",
    "These evaluations can be run with an initialized instance of DeepView."
   ]
  },
  {
   "cell_type": "code",
   "execution_count": 8,
   "metadata": {},
   "outputs": [
    {
     "name": "stdout",
     "output_type": "stream",
     "text": [
      "Evaluation of DeepView: ResNet-20 - CIFAR10\n",
      "\n",
      "error of a knn classifier in projecion space using classifier labels:  0.07\n"
     ]
    }
   ],
   "source": [
    "from deepview.evaluate import evaluate_umap\n",
    "\n",
    "print('Evaluation of DeepView: %s\\n' % deepview.title)\n",
    "evaluate_umap(deepview)"
   ]
  },
  {
   "cell_type": "markdown",
   "metadata": {},
   "source": [
    "## Evaluate the Inverse Mapping\n",
    "\n",
    "Evaluation of the inverse mapping (i.e. the mapping from 2D back into sample-space) is done by first, passing some training samples to DeepView. It will classify them with the given model, train the mappers (UMAP and inverse) on them, and embed them into 2D space.\n",
    "A fraction of the embedded samples will be used to train the inverse mapper from ground up. After reconstructing the same set of samples, they will be classified again. The predictions are compared against the prior predictions from deepview and used to calculate the train accuracy.\n",
    "\n",
    "The spare samples are used as testing samples, they were not used during training of the inverse mapper. They are mapped back into sample-space as well, classified and these classification are used to calculate the test accuracy of the inverse mapper.\n",
    "\n",
    "> **To run this cell**, run [Demo with Torch model](#Demo-with-Torch-model) first, as the evaluation is done on the CIFAR dataset"
   ]
  },
  {
   "cell_type": "code",
   "execution_count": 9,
   "metadata": {},
   "outputs": [
    {
     "name": "stdout",
     "output_type": "stream",
     "text": [
      "Distance calculation 20.00 %\n",
      "Distance calculation 40.00 %\n",
      "Distance calculation 60.00 %\n",
      "Distance calculation 80.00 %\n",
      "Distance calculation 100.00 %\n",
      "Embedding samples ...\n",
      "Computing decision regions ...\n",
      "Inverse-Mapper train accuracy:\t82.38%\n",
      "Inverse-Mapper test accuracy:\t78.89%\n"
     ]
    }
   ],
   "source": [
    "from deepview.evaluate import evaluate_inv_umap\n",
    "\n",
    "# for testing, reset deepview and add some samples\n",
    "# a fraction of these will serve as training set for the evaluation\n",
    "n_samples = 600\n",
    "fraction = 0.7\n",
    "\n",
    "sample_ids = np.random.choice(len(testset), n_samples)\n",
    "X = np.array([ testset[i][0].numpy() for i in sample_ids ])\n",
    "Y = np.array([ testset[i][1] for i in sample_ids ])\n",
    "\n",
    "train_acc, test_acc = evaluate_inv_umap(deepview, X, Y, fraction)\n",
    "\n",
    "print('Inverse-Mapper train accuracy:\\t%.2f%%' % train_acc)\n",
    "print('Inverse-Mapper test accuracy:\\t%.2f%%' % test_acc)"
   ]
  },
  {
   "cell_type": "code",
   "execution_count": 11,
   "metadata": {},
   "outputs": [],
   "source": [
    "deepview.close()"
   ]
  },
  {
   "cell_type": "markdown",
   "metadata": {},
   "source": [
    "## Demo with Tensorflow <small>And visualizing intermediate embeddings</small>\n",
    "\n",
    "This demo shows the usage of DeepView for tensorflow models (it doesn't differ at all from the procedure with torch models). However, this demo also shows how to feed intermediate embeddings of the data to DeepView. To do so, we only need to encode the datapoints before feeding them to DeepView. We proceed as follows:\n",
    "\n",
    " 1. Create a model that provides access to intermediate embeddings (i.e. output of some hidden layer) \n",
    " 2. Train the model, the example here is a simple feed forward neural network that reaches roughly 93.5% training accuracy\n",
    " 3. Encode the datapoints with the first layer(s) of the neural network into an embedding\n",
    " 4. Instantiate DeepView \n",
    "     1. The prediction wrapper now needs to be model_head, because the data samples will already be embedded by the first part of the model.\n",
    "     2. Instead of the raw data samples, feed the embedded data as input to DeepView"
   ]
  },
  {
   "cell_type": "code",
   "execution_count": 12,
   "metadata": {},
   "outputs": [
    {
     "name": "stdout",
     "output_type": "stream",
     "text": [
      "Epoch 1/5\n"
     ]
    },
    {
     "name": "stderr",
     "output_type": "stream",
     "text": [
      "2023-02-23 17:40:24.763940: I tensorflow/stream_executor/cuda/cuda_gpu_executor.cc:936] successful NUMA node read from SysFS had negative value (-1), but there must be at least one NUMA node, so returning NUMA node zero\n",
      "2023-02-23 17:40:24.764161: W tensorflow/stream_executor/platform/default/dso_loader.cc:64] Could not load dynamic library 'libcufft.so.10'; dlerror: libcufft.so.10: cannot open shared object file: No such file or directory\n",
      "2023-02-23 17:40:24.764213: W tensorflow/stream_executor/platform/default/dso_loader.cc:64] Could not load dynamic library 'libcurand.so.10'; dlerror: libcurand.so.10: cannot open shared object file: No such file or directory\n",
      "2023-02-23 17:40:24.764244: W tensorflow/stream_executor/platform/default/dso_loader.cc:64] Could not load dynamic library 'libcusolver.so.11'; dlerror: libcusolver.so.11: cannot open shared object file: No such file or directory\n",
      "2023-02-23 17:40:24.764273: W tensorflow/stream_executor/platform/default/dso_loader.cc:64] Could not load dynamic library 'libcusparse.so.11'; dlerror: libcusparse.so.11: cannot open shared object file: No such file or directory\n",
      "2023-02-23 17:40:24.764300: W tensorflow/core/common_runtime/gpu/gpu_device.cc:1850] Cannot dlopen some GPU libraries. Please make sure the missing libraries mentioned above are installed properly if you would like to use GPU. Follow the guide at https://www.tensorflow.org/install/gpu for how to download and setup the required libraries for your platform.\n",
      "Skipping registering GPU devices...\n",
      "2023-02-23 17:40:24.764428: I tensorflow/core/platform/cpu_feature_guard.cc:151] This TensorFlow binary is optimized with oneAPI Deep Neural Network Library (oneDNN) to use the following CPU instructions in performance-critical operations:  AVX2 FMA\n",
      "To enable them in other operations, rebuild TensorFlow with the appropriate compiler flags.\n"
     ]
    },
    {
     "name": "stdout",
     "output_type": "stream",
     "text": [
      "225/225 [==============================] - 0s 529us/step - loss: 1.9251 - accuracy: 0.5337\n",
      "Epoch 2/5\n",
      "225/225 [==============================] - 0s 451us/step - loss: 0.7699 - accuracy: 0.8364\n",
      "Epoch 3/5\n",
      "225/225 [==============================] - 0s 447us/step - loss: 0.4012 - accuracy: 0.9021\n",
      "Epoch 4/5\n",
      "225/225 [==============================] - 0s 470us/step - loss: 0.2817 - accuracy: 0.9265\n",
      "Epoch 5/5\n",
      "225/225 [==============================] - 0s 430us/step - loss: 0.2252 - accuracy: 0.9393\n"
     ]
    }
   ],
   "source": [
    "import tensorflow as tf\n",
    "import demo_utils_tensorflow as demo_tf\n",
    "\n",
    "\n",
    "verbose = 1\n",
    "\n",
    "# get MNIST dataset\n",
    "digits_X, digits_y = demo.make_digit_dataset()\n",
    "\n",
    "# create a tensorflow models, \n",
    "# model_embd will encode images to an intermediate embedding\n",
    "# model_head will predict classes from the intermediate embedding\n",
    "# model is model_embd and model_head combined into one model for training\n",
    "model_embd, model_head, model = demo_tf.create_tf_model_intermediate()\n",
    "\n",
    "model.compile(optimizer='adam', loss=tf.keras.losses.SparseCategoricalCrossentropy(), metrics=['accuracy'])\n",
    "_ = model.fit(digits_X, digits_y, batch_size=8, epochs=5, verbose=verbose)"
   ]
  },
  {
   "cell_type": "code",
   "execution_count": 13,
   "metadata": {},
   "outputs": [],
   "source": [
    "# Get the embedded data\n",
    "n_samples = 300\n",
    "sample_ids = np.random.choice(len(digits_X), n_samples)\n",
    "\n",
    "# Encode the digits with the first two layers\n",
    "embedded_digits = model_embd.predict(digits_X, batch_size=64)\n",
    "\n",
    "X = np.array([ embedded_digits[i] for i in sample_ids ])\n",
    "Y = np.array([ digits_y[i] for i in sample_ids ])"
   ]
  },
  {
   "cell_type": "code",
   "execution_count": 16,
   "metadata": {},
   "outputs": [
    {
     "name": "stdout",
     "output_type": "stream",
     "text": [
      "Distance calculation 20.00 %\n",
      "Distance calculation 40.00 %\n",
      "Distance calculation 60.00 %\n",
      "Distance calculation 80.00 %\n",
      "Distance calculation 100.00 %\n",
      "Embedding samples ...\n",
      "Computing decision regions ...\n",
      "Time to calculate visualization for 300 samples: 13.83 sec\n"
     ]
    }
   ],
   "source": [
    "# note that here, the head (last layers) must be used in the prediction wrapper,\n",
    "# as we want to pass the embedded data to deepview\n",
    "pred_wrapper = DeepView.create_simple_wrapper(model_head)\n",
    "\n",
    "# the digit dataset is used, so classes are [0..9]\n",
    "classes = np.arange(10)\n",
    "\n",
    "# --- Deep View Parameters ----\n",
    "batch_size = 64\n",
    "max_samples = 500\n",
    "sample_shape = (64,)\n",
    "n = 10\n",
    "lam = 0.5\n",
    "resolution = 100\n",
    "cmap = 'tab10'\n",
    "title = 'TF-Model - Embedded MNIST'\n",
    "\n",
    "# create DeepView object\n",
    "deepview = DeepView(pred_wrapper, classes, max_samples, batch_size, sample_shape, \n",
    "                    n, lam, resolution, cmap, title=title, data_viz=demo.mnist_visualization)\n",
    "\n",
    "t0 = time.time()\n",
    "deepview.add_samples(X, Y)\n",
    "deepview.show()\n",
    "\n",
    "print('Time to calculate visualization for %d samples: %.2f sec' % (n_samples, time.time() - t0))"
   ]
  },
  {
   "cell_type": "markdown",
   "metadata": {},
   "source": [
    "### Just an embedding ...\n",
    "\n",
    "To visualize the embedding purely based on the euclidian distances between the embedded vectors, you can use $\\lambda = 1$. In this case DeepView will ignore the fisher distance from the probabilities and produce just a 2D representation of the embedded vectors. This corresponds to applying UMAP on the data-embedding."
   ]
  },
  {
   "cell_type": "code",
   "execution_count": 17,
   "metadata": {},
   "outputs": [
    {
     "name": "stdout",
     "output_type": "stream",
     "text": [
      "Embedding samples ...\n",
      "Computing decision regions ...\n"
     ]
    }
   ],
   "source": [
    "deepview.set_lambda(1.)\n",
    "deepview.show()"
   ]
  },
  {
   "cell_type": "code",
   "execution_count": 18,
   "metadata": {},
   "outputs": [],
   "source": [
    "deepview.close()"
   ]
  },
  {
   "cell_type": "markdown",
   "metadata": {},
   "source": [
    "## Demo with RandomForest"
   ]
  },
  {
   "cell_type": "code",
   "execution_count": 19,
   "metadata": {},
   "outputs": [
    {
     "name": "stdout",
     "output_type": "stream",
     "text": [
      "Created random forest\n",
      " * No. of Estimators:\t 100\n",
      " * Dataset:\t\t MNIST\n",
      " * Train score:\t\t 1.0\n"
     ]
    }
   ],
   "source": [
    "# get MNIST dataset\n",
    "digits_X, digits_y = demo.make_digit_dataset()\n",
    "# initialize random forest\n",
    "random_forest = demo.create_random_forest(digits_X, digits_y, n_estimators=100)"
   ]
  },
  {
   "cell_type": "code",
   "execution_count": 20,
   "metadata": {},
   "outputs": [
    {
     "name": "stdout",
     "output_type": "stream",
     "text": [
      "Distance calculation 20.00 %\n",
      "Distance calculation 40.00 %\n",
      "Distance calculation 60.00 %\n",
      "Distance calculation 80.00 %\n",
      "Distance calculation 100.00 %\n",
      "Embedding samples ...\n",
      "Computing decision regions ...\n",
      "Time to calculate visualization for 50 samples: 4.30 sec\n"
     ]
    }
   ],
   "source": [
    "pred_wrapper = DeepView.create_simple_wrapper(random_forest.predict_proba)\n",
    "\n",
    "# the digit dataset is used, so classes are [0..9]\n",
    "classes = np.arange(10)\n",
    "\n",
    "# --- Deep View Parameters ----\n",
    "batch_size = 64\n",
    "max_samples = 500\n",
    "sample_shape = (64,)\n",
    "n = 10\n",
    "lam = 0.5\n",
    "resolution = 100\n",
    "cmap = 'tab10'\n",
    "title = 'RandomForest - MNIST'\n",
    "\n",
    "# create DeepView object\n",
    "deepview = DeepView(pred_wrapper, classes, max_samples, batch_size, sample_shape, \n",
    "                    n, lam, resolution, cmap, title=title, data_viz=demo.mnist_visualization)\n",
    "\n",
    "# add data samples\n",
    "n_samples = 50\n",
    "sample_ids = np.random.choice(len(digits_X), n_samples)\n",
    "X = np.array([ digits_X[i] for i in sample_ids ])\n",
    "Y = np.array([ digits_y[i] for i in sample_ids ])\n",
    "\n",
    "t0 = time.time()\n",
    "deepview.add_samples(X, Y)\n",
    "deepview.show()\n",
    "\n",
    "print('Time to calculate visualization for %d samples: %.2f sec' % (n_samples, time.time() - t0))"
   ]
  },
  {
   "cell_type": "markdown",
   "metadata": {},
   "source": [
    "![random_forest](https://user-images.githubusercontent.com/30961397/78502477-a6ab5200-7761-11ea-8be3-e0b4c8e6a966.png)"
   ]
  },
  {
   "cell_type": "code",
   "execution_count": 21,
   "metadata": {},
   "outputs": [],
   "source": [
    "deepview.close()"
   ]
  },
  {
   "cell_type": "markdown",
   "metadata": {},
   "source": [
    "## Demo with DecisionTree"
   ]
  },
  {
   "cell_type": "code",
   "execution_count": 22,
   "metadata": {},
   "outputs": [
    {
     "name": "stdout",
     "output_type": "stream",
     "text": [
      "Created decision tree\n",
      " * Depth:\t\t 10\n",
      " * Dataset:\t\t MNIST\n",
      " * Train score:\t\t 0.9821925431274346\n"
     ]
    }
   ],
   "source": [
    "# get MNIST dataset\n",
    "digits_X, digits_y = demo.make_digit_dataset()\n",
    "# initialize decision tree\n",
    "decision_tree = demo.create_decision_tree(digits_X, digits_y, max_depth=10)"
   ]
  },
  {
   "cell_type": "code",
   "execution_count": 23,
   "metadata": {},
   "outputs": [],
   "source": [
    "# --- Deep View Parameters ----\n",
    "batch_size = 256\n",
    "max_samples = 500\n",
    "# the data can also be represented as a vector\n",
    "sample_shape = (64,)\n",
    "n = 10\n",
    "lam = 0.65\n",
    "resolution = 100\n",
    "cmap = 'gist_ncar'\n",
    "\n",
    "# the digit dataset is used, so classes are [0..9]\n",
    "classes = np.arange(10)"
   ]
  },
  {
   "cell_type": "code",
   "execution_count": 24,
   "metadata": {},
   "outputs": [
    {
     "name": "stdout",
     "output_type": "stream",
     "text": [
      "Distance calculation 20.00 %\n",
      "Distance calculation 40.00 %\n",
      "Distance calculation 60.00 %\n",
      "Distance calculation 80.00 %\n",
      "Distance calculation 100.00 %\n",
      "Embedding samples ...\n",
      "Computing decision regions ...\n",
      "Time to calculate visualization for 200 samples: 5.80 sec\n"
     ]
    }
   ],
   "source": [
    "pred_wrapper = DeepView.create_simple_wrapper(decision_tree.predict_proba)\n",
    "\n",
    "# create DeepView object\n",
    "deepview = DeepView(pred_wrapper, classes, max_samples, batch_size, sample_shape, \n",
    "                    n, lam, resolution, cmap, data_viz=demo.mnist_visualization)\n",
    "\n",
    "# add data samples\n",
    "n_samples = 200\n",
    "sample_ids = np.random.choice(len(digits_X), n_samples)\n",
    "X = np.array([ digits_X[i] for i in sample_ids ])\n",
    "Y = np.array([ digits_y[i] for i in sample_ids ])\n",
    "\n",
    "t0 = time.time()\n",
    "deepview.add_samples(X, Y)\n",
    "deepview.show()\n",
    "\n",
    "print('Time to calculate visualization for %d samples: %.2f sec' % (n_samples, time.time() - t0))"
   ]
  },
  {
   "cell_type": "code",
   "execution_count": 25,
   "metadata": {
    "scrolled": true
   },
   "outputs": [
    {
     "name": "stdout",
     "output_type": "stream",
     "text": [
      "Embedding samples ...\n",
      "Computing decision regions ...\n"
     ]
    }
   ],
   "source": [
    "deepview.set_lambda(.4)\n",
    "deepview.show()"
   ]
  },
  {
   "cell_type": "code",
   "execution_count": 26,
   "metadata": {},
   "outputs": [],
   "source": [
    "deepview.close()"
   ]
  },
  {
   "cell_type": "markdown",
   "metadata": {},
   "source": [
    "## Demo: KNN-Classifier"
   ]
  },
  {
   "cell_type": "code",
   "execution_count": 27,
   "metadata": {},
   "outputs": [
    {
     "name": "stdout",
     "output_type": "stream",
     "text": [
      "Created knn classifier\n",
      " * No. of Neighbors:\t 10\n",
      " * Dataset:\t\t MNIST\n",
      " * Train score:\t\t 0.9855314412910406\n"
     ]
    }
   ],
   "source": [
    "# get MNIST dataset\n",
    "digits_X, digits_y = demo.make_digit_dataset()\n",
    "# initialize knn classifier\n",
    "kn_neighbors = demo.create_kn_neighbors(digits_X, digits_y, k=10)"
   ]
  },
  {
   "cell_type": "code",
   "execution_count": 28,
   "metadata": {},
   "outputs": [
    {
     "name": "stdout",
     "output_type": "stream",
     "text": [
      "Distance calculation 20.00 %\n",
      "Distance calculation 40.00 %\n",
      "Distance calculation 60.00 %\n",
      "Distance calculation 80.00 %\n",
      "Distance calculation 100.00 %\n",
      "Embedding samples ...\n",
      "Computing decision regions ...\n",
      "Time to calculate visualization for 200 samples: 17.20 sec\n"
     ]
    }
   ],
   "source": [
    "pred_wrapper = DeepView.create_simple_wrapper(kn_neighbors.predict_proba)\n",
    "\n",
    "# create DeepView object\n",
    "deepview = DeepView(pred_wrapper, classes, max_samples, batch_size, sample_shape, \n",
    "                    n, lam, resolution, cmap, data_viz=demo.mnist_visualization)\n",
    "\n",
    "# add data samples\n",
    "n_samples = 200\n",
    "sample_ids = np.random.choice(len(digits_X), n_samples)\n",
    "X = np.array([ digits_X[i] for i in sample_ids ])\n",
    "Y = np.array([ digits_y[i] for i in sample_ids ])\n",
    "\n",
    "t0 = time.time()\n",
    "deepview.add_samples(X, Y)\n",
    "deepview.show()\n",
    "\n",
    "print('Time to calculate visualization for %d samples: %.2f sec' % (n_samples, time.time() - t0))"
   ]
  },
  {
   "cell_type": "markdown",
   "metadata": {},
   "source": [
    "![knn](https://user-images.githubusercontent.com/30961397/78502740-dc046f80-7762-11ea-82cf-efc8251539db.png)\n"
   ]
  },
  {
   "cell_type": "code",
   "execution_count": 29,
   "metadata": {},
   "outputs": [],
   "source": [
    "deepview.close()"
   ]
  },
  {
   "cell_type": "markdown",
   "metadata": {},
   "source": [
    "## Py test"
   ]
  },
  {
   "cell_type": "code",
   "execution_count": 33,
   "metadata": {},
   "outputs": [
    {
     "name": "stdout",
     "output_type": "stream",
     "text": [
      "Distance calculation 20.00 %\n",
      "Distance calculation 40.00 %\n",
      "Distance calculation 60.00 %\n",
      "Distance calculation 80.00 %\n",
      "Distance calculation 100.00 %\n",
      "Embedding samples ...\n",
      "Computing decision regions ...\n",
      "Time to calculate visualization for 200 samples: 33.42 sec\n"
     ]
    }
   ],
   "source": [
    "from sklearn.svm import SVC\n",
    "import pandas as pd\n",
    "from sklearn.model_selection import StratifiedShuffleSplit, train_test_split\n",
    "from sklearn.preprocessing import MinMaxScaler, LabelEncoder\n",
    "from imblearn.over_sampling import SMOTE\n",
    "from sklearn.ensemble import RandomForestClassifier\n",
    "\n",
    "df = pd.read_csv('../pyrite_dbm_backup/data/PyTE.csv')\n",
    "\n",
    "y = df['type']\n",
    "X = df.copy().drop(['type', 'reference'], axis=1)\n",
    "features = X.columns\n",
    "# print(X.describe())\n",
    "scaler0 = MinMaxScaler()\n",
    "X = np.log10(X+1)\n",
    "X = scaler0.fit_transform(X)\n",
    "\n",
    "# print(y.value_counts())\n",
    "le = LabelEncoder()\n",
    "y = le.fit_transform(y)\n",
    "\n",
    "X_train, X_test, y_train, y_test = train_test_split(X, y, test_size=0.2, random_state=43, stratify=y)\n",
    "\n",
    "sampler = SMOTE()\n",
    "# X_over, y_over = sampler.fit_resample(X_train, y_train)\n",
    "\n",
    "clf = SVC(probability=True)\n",
    "# clf = RandomForestClassifier(n_estimators=100, n_jobs=-1)\n",
    "clf.fit(X_train, y_train)\n",
    "\n",
    "pred_wrapper = DeepView.create_simple_wrapper(clf.predict_proba)\n",
    "\n",
    "# the digit dataset is used, so classes are [0..9]\n",
    "classes = np.arange(6)\n",
    "\n",
    "# --- Deep View Parameters ----\n",
    "batch_size = 64\n",
    "max_samples = 1000\n",
    "sample_shape = (11,)\n",
    "n = 10\n",
    "lam = 0.9\n",
    "resolution = 200\n",
    "cmap = 'Set2'\n",
    "title = 'RandomForest - Py'\n",
    "\n",
    "# create DeepView object\n",
    "deepview = DeepView(pred_wrapper, classes, max_samples, batch_size, sample_shape, \n",
    "                    n, lam, resolution, cmap, title=title, data_viz=demo.mnist_visualization )\n",
    "\n",
    "# add data samples\n",
    "n_samples = 200\n",
    "sample_ids = np.random.choice(len(X_train), n_samples, )\n",
    "X = np.array([ X_train[i] for i in sample_ids ])\n",
    "Y = np.array([ y_train[i] for i in sample_ids ])\n",
    "\n",
    "t0 = time.time()\n",
    "deepview.add_samples(X, Y)\n",
    "deepview.show()\n",
    "\n",
    "print('Time to calculate visualization for %d samples: %.2f sec' % (n_samples, time.time() - t0))"
   ]
  },
  {
   "cell_type": "code",
   "execution_count": 2,
   "metadata": {},
   "outputs": [
    {
     "data": {
      "text/plain": [
       "(100, 2)"
      ]
     },
     "execution_count": 2,
     "metadata": {},
     "output_type": "execute_result"
    }
   ],
   "source": [
    "import numpy as np\n",
    "corners = np.array([\n",
    "    [-5, -10],  # 1\n",
    "    [-7, 6],  # 7\n",
    "    [2, -8],  # 2\n",
    "    [12, 4],  # 0\n",
    "])\n",
    "\n",
    "test_pts = np.array([\n",
    "    (corners[0]*(1-x) + corners[1]*x)*(1-y) +\n",
    "    (corners[2]*(1-x) + corners[3]*x)*y\n",
    "    for y in np.linspace(0, 1, 10)\n",
    "    for x in np.linspace(0, 1, 10)\n",
    "])\n",
    "\n",
    "test_pts.shape"
   ]
  },
  {
   "cell_type": "code",
   "execution_count": null,
   "metadata": {},
   "outputs": [],
   "source": []
  }
 ],
 "metadata": {
  "kernelspec": {
   "display_name": "Python 3 (ipykernel)",
   "language": "python",
   "name": "python3"
  },
  "language_info": {
   "codemirror_mode": {
    "name": "ipython",
    "version": 3
   },
   "file_extension": ".py",
   "mimetype": "text/x-python",
   "name": "python",
   "nbconvert_exporter": "python",
   "pygments_lexer": "ipython3",
   "version": "3.10.9"
  },
  "vscode": {
   "interpreter": {
    "hash": "e7370f93d1d0cde622a1f8e1c04877d8463912d04d973331ad4851f04de6915a"
   }
  }
 },
 "nbformat": 4,
 "nbformat_minor": 4
}
